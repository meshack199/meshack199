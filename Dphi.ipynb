{
  "nbformat": 4,
  "nbformat_minor": 0,
  "metadata": {
    "colab": {
      "name": "Dphi.ipynb",
      "provenance": [],
      "authorship_tag": "ABX9TyMdbO+ONjvWCLzgGmKmn3o8",
      "include_colab_link": true
    },
    "kernelspec": {
      "name": "python3",
      "display_name": "Python 3"
    },
    "language_info": {
      "name": "python"
    }
  },
  "cells": [
    {
      "cell_type": "markdown",
      "metadata": {
        "id": "view-in-github",
        "colab_type": "text"
      },
      "source": [
        "<a href=\"https://colab.research.google.com/github/meshack199/meshack199/blob/main/Dphi.ipynb\" target=\"_parent\"><img src=\"https://colab.research.google.com/assets/colab-badge.svg\" alt=\"Open In Colab\"/></a>"
      ]
    },
    {
      "cell_type": "markdown",
      "metadata": {
        "id": "PuDscZRKf6gk"
      },
      "source": [
        "Data Visualization Bootcamp at Dphi"
      ]
    },
    {
      "cell_type": "code",
      "metadata": {
        "id": "gt_jq3RsgUIk"
      },
      "source": [
        "#Setting up the page\n",
        "#Importing mnecessary files \n",
        "import pandas as pd\n",
        "import numpy as np\n",
        "import matplotlib.pyplot as plt\n"
      ],
      "execution_count": 1,
      "outputs": []
    },
    {
      "cell_type": "code",
      "metadata": {
        "colab": {
          "base_uri": "https://localhost:8080/",
          "height": 394
        },
        "id": "VnmkA2h4gk2R",
        "outputId": "91ae0b47-efe3-441e-8541-a8da68a7599e"
      },
      "source": [
        "#Loading the dataset and checking first 5 rows and last 10 rows\n",
        "df1=pd.read_csv(\"https://raw.githubusercontent.com/dphi-official/Datasets/master/world-happiness-report-2021.csv\")\n",
        "df1.head()"
      ],
      "execution_count": 4,
      "outputs": [
        {
          "output_type": "execute_result",
          "data": {
            "text/html": [
              "<div>\n",
              "<style scoped>\n",
              "    .dataframe tbody tr th:only-of-type {\n",
              "        vertical-align: middle;\n",
              "    }\n",
              "\n",
              "    .dataframe tbody tr th {\n",
              "        vertical-align: top;\n",
              "    }\n",
              "\n",
              "    .dataframe thead th {\n",
              "        text-align: right;\n",
              "    }\n",
              "</style>\n",
              "<table border=\"1\" class=\"dataframe\">\n",
              "  <thead>\n",
              "    <tr style=\"text-align: right;\">\n",
              "      <th></th>\n",
              "      <th>Country name</th>\n",
              "      <th>Regional indicator</th>\n",
              "      <th>Ladder score</th>\n",
              "      <th>Standard error of ladder score</th>\n",
              "      <th>upperwhisker</th>\n",
              "      <th>lowerwhisker</th>\n",
              "      <th>Logged GDP per capita</th>\n",
              "      <th>Social support</th>\n",
              "      <th>Healthy life expectancy</th>\n",
              "      <th>Freedom to make life choices</th>\n",
              "      <th>Generosity</th>\n",
              "      <th>Perceptions of corruption</th>\n",
              "      <th>Ladder score in Dystopia</th>\n",
              "      <th>Explained by: Log GDP per capita</th>\n",
              "      <th>Explained by: Social support</th>\n",
              "      <th>Explained by: Healthy life expectancy</th>\n",
              "      <th>Explained by: Freedom to make life choices</th>\n",
              "      <th>Explained by: Generosity</th>\n",
              "      <th>Explained by: Perceptions of corruption</th>\n",
              "      <th>Dystopia + residual</th>\n",
              "    </tr>\n",
              "  </thead>\n",
              "  <tbody>\n",
              "    <tr>\n",
              "      <th>0</th>\n",
              "      <td>Finland</td>\n",
              "      <td>Western Europe</td>\n",
              "      <td>7.842</td>\n",
              "      <td>0.032</td>\n",
              "      <td>7.904</td>\n",
              "      <td>7.780</td>\n",
              "      <td>10.775</td>\n",
              "      <td>0.954</td>\n",
              "      <td>72.0</td>\n",
              "      <td>0.949</td>\n",
              "      <td>-0.098</td>\n",
              "      <td>0.186</td>\n",
              "      <td>2.43</td>\n",
              "      <td>1.446</td>\n",
              "      <td>1.106</td>\n",
              "      <td>0.741</td>\n",
              "      <td>0.691</td>\n",
              "      <td>0.124</td>\n",
              "      <td>0.481</td>\n",
              "      <td>3.253</td>\n",
              "    </tr>\n",
              "    <tr>\n",
              "      <th>1</th>\n",
              "      <td>Denmark</td>\n",
              "      <td>Western Europe</td>\n",
              "      <td>7.620</td>\n",
              "      <td>0.035</td>\n",
              "      <td>7.687</td>\n",
              "      <td>7.552</td>\n",
              "      <td>10.933</td>\n",
              "      <td>0.954</td>\n",
              "      <td>72.7</td>\n",
              "      <td>0.946</td>\n",
              "      <td>0.030</td>\n",
              "      <td>0.179</td>\n",
              "      <td>2.43</td>\n",
              "      <td>1.502</td>\n",
              "      <td>1.108</td>\n",
              "      <td>0.763</td>\n",
              "      <td>0.686</td>\n",
              "      <td>0.208</td>\n",
              "      <td>0.485</td>\n",
              "      <td>2.868</td>\n",
              "    </tr>\n",
              "    <tr>\n",
              "      <th>2</th>\n",
              "      <td>Switzerland</td>\n",
              "      <td>Western Europe</td>\n",
              "      <td>7.571</td>\n",
              "      <td>0.036</td>\n",
              "      <td>7.643</td>\n",
              "      <td>7.500</td>\n",
              "      <td>11.117</td>\n",
              "      <td>0.942</td>\n",
              "      <td>74.4</td>\n",
              "      <td>0.919</td>\n",
              "      <td>0.025</td>\n",
              "      <td>0.292</td>\n",
              "      <td>2.43</td>\n",
              "      <td>1.566</td>\n",
              "      <td>1.079</td>\n",
              "      <td>0.816</td>\n",
              "      <td>0.653</td>\n",
              "      <td>0.204</td>\n",
              "      <td>0.413</td>\n",
              "      <td>2.839</td>\n",
              "    </tr>\n",
              "    <tr>\n",
              "      <th>3</th>\n",
              "      <td>Iceland</td>\n",
              "      <td>Western Europe</td>\n",
              "      <td>7.554</td>\n",
              "      <td>0.059</td>\n",
              "      <td>7.670</td>\n",
              "      <td>7.438</td>\n",
              "      <td>10.878</td>\n",
              "      <td>0.983</td>\n",
              "      <td>73.0</td>\n",
              "      <td>0.955</td>\n",
              "      <td>0.160</td>\n",
              "      <td>0.673</td>\n",
              "      <td>2.43</td>\n",
              "      <td>1.482</td>\n",
              "      <td>1.172</td>\n",
              "      <td>0.772</td>\n",
              "      <td>0.698</td>\n",
              "      <td>0.293</td>\n",
              "      <td>0.170</td>\n",
              "      <td>2.967</td>\n",
              "    </tr>\n",
              "    <tr>\n",
              "      <th>4</th>\n",
              "      <td>Netherlands</td>\n",
              "      <td>Western Europe</td>\n",
              "      <td>7.464</td>\n",
              "      <td>0.027</td>\n",
              "      <td>7.518</td>\n",
              "      <td>7.410</td>\n",
              "      <td>10.932</td>\n",
              "      <td>0.942</td>\n",
              "      <td>72.4</td>\n",
              "      <td>0.913</td>\n",
              "      <td>0.175</td>\n",
              "      <td>0.338</td>\n",
              "      <td>2.43</td>\n",
              "      <td>1.501</td>\n",
              "      <td>1.079</td>\n",
              "      <td>0.753</td>\n",
              "      <td>0.647</td>\n",
              "      <td>0.302</td>\n",
              "      <td>0.384</td>\n",
              "      <td>2.798</td>\n",
              "    </tr>\n",
              "  </tbody>\n",
              "</table>\n",
              "</div>"
            ],
            "text/plain": [
              "  Country name  ... Dystopia + residual\n",
              "0      Finland  ...               3.253\n",
              "1      Denmark  ...               2.868\n",
              "2  Switzerland  ...               2.839\n",
              "3      Iceland  ...               2.967\n",
              "4  Netherlands  ...               2.798\n",
              "\n",
              "[5 rows x 20 columns]"
            ]
          },
          "metadata": {},
          "execution_count": 4
        }
      ]
    },
    {
      "cell_type": "code",
      "metadata": {
        "colab": {
          "base_uri": "https://localhost:8080/",
          "height": 804
        },
        "id": "056j9zN6g3NR",
        "outputId": "ed0719d3-7423-4a30-a28b-98acb71cbda0"
      },
      "source": [
        "#checking last 10 rows of df1\n",
        "df1.tail(10)"
      ],
      "execution_count": 5,
      "outputs": [
        {
          "output_type": "execute_result",
          "data": {
            "text/html": [
              "<div>\n",
              "<style scoped>\n",
              "    .dataframe tbody tr th:only-of-type {\n",
              "        vertical-align: middle;\n",
              "    }\n",
              "\n",
              "    .dataframe tbody tr th {\n",
              "        vertical-align: top;\n",
              "    }\n",
              "\n",
              "    .dataframe thead th {\n",
              "        text-align: right;\n",
              "    }\n",
              "</style>\n",
              "<table border=\"1\" class=\"dataframe\">\n",
              "  <thead>\n",
              "    <tr style=\"text-align: right;\">\n",
              "      <th></th>\n",
              "      <th>Country name</th>\n",
              "      <th>Regional indicator</th>\n",
              "      <th>Ladder score</th>\n",
              "      <th>Standard error of ladder score</th>\n",
              "      <th>upperwhisker</th>\n",
              "      <th>lowerwhisker</th>\n",
              "      <th>Logged GDP per capita</th>\n",
              "      <th>Social support</th>\n",
              "      <th>Healthy life expectancy</th>\n",
              "      <th>Freedom to make life choices</th>\n",
              "      <th>Generosity</th>\n",
              "      <th>Perceptions of corruption</th>\n",
              "      <th>Ladder score in Dystopia</th>\n",
              "      <th>Explained by: Log GDP per capita</th>\n",
              "      <th>Explained by: Social support</th>\n",
              "      <th>Explained by: Healthy life expectancy</th>\n",
              "      <th>Explained by: Freedom to make life choices</th>\n",
              "      <th>Explained by: Generosity</th>\n",
              "      <th>Explained by: Perceptions of corruption</th>\n",
              "      <th>Dystopia + residual</th>\n",
              "    </tr>\n",
              "  </thead>\n",
              "  <tbody>\n",
              "    <tr>\n",
              "      <th>139</th>\n",
              "      <td>Burundi</td>\n",
              "      <td>Sub-Saharan Africa</td>\n",
              "      <td>3.775</td>\n",
              "      <td>0.107</td>\n",
              "      <td>3.985</td>\n",
              "      <td>3.565</td>\n",
              "      <td>6.635</td>\n",
              "      <td>0.490</td>\n",
              "      <td>53.400</td>\n",
              "      <td>0.626</td>\n",
              "      <td>-0.024</td>\n",
              "      <td>0.607</td>\n",
              "      <td>2.43</td>\n",
              "      <td>0.000</td>\n",
              "      <td>0.062</td>\n",
              "      <td>0.155</td>\n",
              "      <td>0.298</td>\n",
              "      <td>0.172</td>\n",
              "      <td>0.212</td>\n",
              "      <td>2.876</td>\n",
              "    </tr>\n",
              "    <tr>\n",
              "      <th>140</th>\n",
              "      <td>Yemen</td>\n",
              "      <td>Middle East and North Africa</td>\n",
              "      <td>3.658</td>\n",
              "      <td>0.070</td>\n",
              "      <td>3.794</td>\n",
              "      <td>3.521</td>\n",
              "      <td>7.578</td>\n",
              "      <td>0.832</td>\n",
              "      <td>57.122</td>\n",
              "      <td>0.602</td>\n",
              "      <td>-0.147</td>\n",
              "      <td>0.800</td>\n",
              "      <td>2.43</td>\n",
              "      <td>0.329</td>\n",
              "      <td>0.831</td>\n",
              "      <td>0.272</td>\n",
              "      <td>0.268</td>\n",
              "      <td>0.092</td>\n",
              "      <td>0.089</td>\n",
              "      <td>1.776</td>\n",
              "    </tr>\n",
              "    <tr>\n",
              "      <th>141</th>\n",
              "      <td>Tanzania</td>\n",
              "      <td>Sub-Saharan Africa</td>\n",
              "      <td>3.623</td>\n",
              "      <td>0.071</td>\n",
              "      <td>3.762</td>\n",
              "      <td>3.485</td>\n",
              "      <td>7.876</td>\n",
              "      <td>0.702</td>\n",
              "      <td>57.999</td>\n",
              "      <td>0.833</td>\n",
              "      <td>0.183</td>\n",
              "      <td>0.577</td>\n",
              "      <td>2.43</td>\n",
              "      <td>0.433</td>\n",
              "      <td>0.540</td>\n",
              "      <td>0.300</td>\n",
              "      <td>0.549</td>\n",
              "      <td>0.307</td>\n",
              "      <td>0.231</td>\n",
              "      <td>1.263</td>\n",
              "    </tr>\n",
              "    <tr>\n",
              "      <th>142</th>\n",
              "      <td>Haiti</td>\n",
              "      <td>Latin America and Caribbean</td>\n",
              "      <td>3.615</td>\n",
              "      <td>0.173</td>\n",
              "      <td>3.953</td>\n",
              "      <td>3.276</td>\n",
              "      <td>7.477</td>\n",
              "      <td>0.540</td>\n",
              "      <td>55.700</td>\n",
              "      <td>0.593</td>\n",
              "      <td>0.422</td>\n",
              "      <td>0.721</td>\n",
              "      <td>2.43</td>\n",
              "      <td>0.294</td>\n",
              "      <td>0.173</td>\n",
              "      <td>0.227</td>\n",
              "      <td>0.257</td>\n",
              "      <td>0.463</td>\n",
              "      <td>0.139</td>\n",
              "      <td>2.060</td>\n",
              "    </tr>\n",
              "    <tr>\n",
              "      <th>143</th>\n",
              "      <td>Malawi</td>\n",
              "      <td>Sub-Saharan Africa</td>\n",
              "      <td>3.600</td>\n",
              "      <td>0.092</td>\n",
              "      <td>3.781</td>\n",
              "      <td>3.419</td>\n",
              "      <td>6.958</td>\n",
              "      <td>0.537</td>\n",
              "      <td>57.948</td>\n",
              "      <td>0.780</td>\n",
              "      <td>0.038</td>\n",
              "      <td>0.729</td>\n",
              "      <td>2.43</td>\n",
              "      <td>0.113</td>\n",
              "      <td>0.168</td>\n",
              "      <td>0.298</td>\n",
              "      <td>0.484</td>\n",
              "      <td>0.213</td>\n",
              "      <td>0.134</td>\n",
              "      <td>2.190</td>\n",
              "    </tr>\n",
              "    <tr>\n",
              "      <th>144</th>\n",
              "      <td>Lesotho</td>\n",
              "      <td>Sub-Saharan Africa</td>\n",
              "      <td>3.512</td>\n",
              "      <td>0.120</td>\n",
              "      <td>3.748</td>\n",
              "      <td>3.276</td>\n",
              "      <td>7.926</td>\n",
              "      <td>0.787</td>\n",
              "      <td>48.700</td>\n",
              "      <td>0.715</td>\n",
              "      <td>-0.131</td>\n",
              "      <td>0.915</td>\n",
              "      <td>2.43</td>\n",
              "      <td>0.451</td>\n",
              "      <td>0.731</td>\n",
              "      <td>0.007</td>\n",
              "      <td>0.405</td>\n",
              "      <td>0.103</td>\n",
              "      <td>0.015</td>\n",
              "      <td>1.800</td>\n",
              "    </tr>\n",
              "    <tr>\n",
              "      <th>145</th>\n",
              "      <td>Botswana</td>\n",
              "      <td>Sub-Saharan Africa</td>\n",
              "      <td>3.467</td>\n",
              "      <td>0.074</td>\n",
              "      <td>3.611</td>\n",
              "      <td>3.322</td>\n",
              "      <td>9.782</td>\n",
              "      <td>0.784</td>\n",
              "      <td>59.269</td>\n",
              "      <td>0.824</td>\n",
              "      <td>-0.246</td>\n",
              "      <td>0.801</td>\n",
              "      <td>2.43</td>\n",
              "      <td>1.099</td>\n",
              "      <td>0.724</td>\n",
              "      <td>0.340</td>\n",
              "      <td>0.539</td>\n",
              "      <td>0.027</td>\n",
              "      <td>0.088</td>\n",
              "      <td>0.648</td>\n",
              "    </tr>\n",
              "    <tr>\n",
              "      <th>146</th>\n",
              "      <td>Rwanda</td>\n",
              "      <td>Sub-Saharan Africa</td>\n",
              "      <td>3.415</td>\n",
              "      <td>0.068</td>\n",
              "      <td>3.548</td>\n",
              "      <td>3.282</td>\n",
              "      <td>7.676</td>\n",
              "      <td>0.552</td>\n",
              "      <td>61.400</td>\n",
              "      <td>0.897</td>\n",
              "      <td>0.061</td>\n",
              "      <td>0.167</td>\n",
              "      <td>2.43</td>\n",
              "      <td>0.364</td>\n",
              "      <td>0.202</td>\n",
              "      <td>0.407</td>\n",
              "      <td>0.627</td>\n",
              "      <td>0.227</td>\n",
              "      <td>0.493</td>\n",
              "      <td>1.095</td>\n",
              "    </tr>\n",
              "    <tr>\n",
              "      <th>147</th>\n",
              "      <td>Zimbabwe</td>\n",
              "      <td>Sub-Saharan Africa</td>\n",
              "      <td>3.145</td>\n",
              "      <td>0.058</td>\n",
              "      <td>3.259</td>\n",
              "      <td>3.030</td>\n",
              "      <td>7.943</td>\n",
              "      <td>0.750</td>\n",
              "      <td>56.201</td>\n",
              "      <td>0.677</td>\n",
              "      <td>-0.047</td>\n",
              "      <td>0.821</td>\n",
              "      <td>2.43</td>\n",
              "      <td>0.457</td>\n",
              "      <td>0.649</td>\n",
              "      <td>0.243</td>\n",
              "      <td>0.359</td>\n",
              "      <td>0.157</td>\n",
              "      <td>0.075</td>\n",
              "      <td>1.205</td>\n",
              "    </tr>\n",
              "    <tr>\n",
              "      <th>148</th>\n",
              "      <td>Afghanistan</td>\n",
              "      <td>South Asia</td>\n",
              "      <td>2.523</td>\n",
              "      <td>0.038</td>\n",
              "      <td>2.596</td>\n",
              "      <td>2.449</td>\n",
              "      <td>7.695</td>\n",
              "      <td>0.463</td>\n",
              "      <td>52.493</td>\n",
              "      <td>0.382</td>\n",
              "      <td>-0.102</td>\n",
              "      <td>0.924</td>\n",
              "      <td>2.43</td>\n",
              "      <td>0.370</td>\n",
              "      <td>0.000</td>\n",
              "      <td>0.126</td>\n",
              "      <td>0.000</td>\n",
              "      <td>0.122</td>\n",
              "      <td>0.010</td>\n",
              "      <td>1.895</td>\n",
              "    </tr>\n",
              "  </tbody>\n",
              "</table>\n",
              "</div>"
            ],
            "text/plain": [
              "    Country name  ... Dystopia + residual\n",
              "139      Burundi  ...               2.876\n",
              "140        Yemen  ...               1.776\n",
              "141     Tanzania  ...               1.263\n",
              "142        Haiti  ...               2.060\n",
              "143       Malawi  ...               2.190\n",
              "144      Lesotho  ...               1.800\n",
              "145     Botswana  ...               0.648\n",
              "146       Rwanda  ...               1.095\n",
              "147     Zimbabwe  ...               1.205\n",
              "148  Afghanistan  ...               1.895\n",
              "\n",
              "[10 rows x 20 columns]"
            ]
          },
          "metadata": {},
          "execution_count": 5
        }
      ]
    },
    {
      "cell_type": "code",
      "metadata": {
        "colab": {
          "base_uri": "https://localhost:8080/",
          "height": 219
        },
        "id": "hnInS1mdjbUC",
        "outputId": "972c6336-665f-4013-d4aa-66767e378365"
      },
      "source": [
        "df1.loc[df1[\"Country name\"]==\"Kenya\"]"
      ],
      "execution_count": 21,
      "outputs": [
        {
          "output_type": "execute_result",
          "data": {
            "text/html": [
              "<div>\n",
              "<style scoped>\n",
              "    .dataframe tbody tr th:only-of-type {\n",
              "        vertical-align: middle;\n",
              "    }\n",
              "\n",
              "    .dataframe tbody tr th {\n",
              "        vertical-align: top;\n",
              "    }\n",
              "\n",
              "    .dataframe thead th {\n",
              "        text-align: right;\n",
              "    }\n",
              "</style>\n",
              "<table border=\"1\" class=\"dataframe\">\n",
              "  <thead>\n",
              "    <tr style=\"text-align: right;\">\n",
              "      <th></th>\n",
              "      <th>Country name</th>\n",
              "      <th>Regional indicator</th>\n",
              "      <th>Ladder score</th>\n",
              "      <th>Standard error of ladder score</th>\n",
              "      <th>upperwhisker</th>\n",
              "      <th>lowerwhisker</th>\n",
              "      <th>Logged GDP per capita</th>\n",
              "      <th>Social support</th>\n",
              "      <th>Healthy life expectancy</th>\n",
              "      <th>Freedom to make life choices</th>\n",
              "      <th>Generosity</th>\n",
              "      <th>Perceptions of corruption</th>\n",
              "      <th>Ladder score in Dystopia</th>\n",
              "      <th>Explained by: Log GDP per capita</th>\n",
              "      <th>Explained by: Social support</th>\n",
              "      <th>Explained by: Healthy life expectancy</th>\n",
              "      <th>Explained by: Freedom to make life choices</th>\n",
              "      <th>Explained by: Generosity</th>\n",
              "      <th>Explained by: Perceptions of corruption</th>\n",
              "      <th>Dystopia + residual</th>\n",
              "    </tr>\n",
              "  </thead>\n",
              "  <tbody>\n",
              "    <tr>\n",
              "      <th>120</th>\n",
              "      <td>Kenya</td>\n",
              "      <td>Sub-Saharan Africa</td>\n",
              "      <td>4.607</td>\n",
              "      <td>0.072</td>\n",
              "      <td>4.747</td>\n",
              "      <td>4.466</td>\n",
              "      <td>8.361</td>\n",
              "      <td>0.688</td>\n",
              "      <td>60.704</td>\n",
              "      <td>0.779</td>\n",
              "      <td>0.287</td>\n",
              "      <td>0.825</td>\n",
              "      <td>2.43</td>\n",
              "      <td>0.603</td>\n",
              "      <td>0.508</td>\n",
              "      <td>0.385</td>\n",
              "      <td>0.483</td>\n",
              "      <td>0.375</td>\n",
              "      <td>0.073</td>\n",
              "      <td>2.18</td>\n",
              "    </tr>\n",
              "  </tbody>\n",
              "</table>\n",
              "</div>"
            ],
            "text/plain": [
              "    Country name  ... Dystopia + residual\n",
              "120        Kenya  ...                2.18\n",
              "\n",
              "[1 rows x 20 columns]"
            ]
          },
          "metadata": {},
          "execution_count": 21
        }
      ]
    },
    {
      "cell_type": "code",
      "metadata": {
        "colab": {
          "base_uri": "https://localhost:8080/"
        },
        "id": "qpCeRsIRoN2Q",
        "outputId": "3a5576c4-d1dc-4b0e-9ba1-9f82711de277"
      },
      "source": [
        "df1.info()"
      ],
      "execution_count": 22,
      "outputs": [
        {
          "output_type": "stream",
          "name": "stdout",
          "text": [
            "<class 'pandas.core.frame.DataFrame'>\n",
            "RangeIndex: 149 entries, 0 to 148\n",
            "Data columns (total 20 columns):\n",
            " #   Column                                      Non-Null Count  Dtype  \n",
            "---  ------                                      --------------  -----  \n",
            " 0   Country name                                149 non-null    object \n",
            " 1   Regional indicator                          149 non-null    object \n",
            " 2   Ladder score                                149 non-null    float64\n",
            " 3   Standard error of ladder score              149 non-null    float64\n",
            " 4   upperwhisker                                149 non-null    float64\n",
            " 5   lowerwhisker                                149 non-null    float64\n",
            " 6   Logged GDP per capita                       149 non-null    float64\n",
            " 7   Social support                              149 non-null    float64\n",
            " 8   Healthy life expectancy                     149 non-null    float64\n",
            " 9   Freedom to make life choices                149 non-null    float64\n",
            " 10  Generosity                                  149 non-null    float64\n",
            " 11  Perceptions of corruption                   149 non-null    float64\n",
            " 12  Ladder score in Dystopia                    149 non-null    float64\n",
            " 13  Explained by: Log GDP per capita            149 non-null    float64\n",
            " 14  Explained by: Social support                149 non-null    float64\n",
            " 15  Explained by: Healthy life expectancy       149 non-null    float64\n",
            " 16  Explained by: Freedom to make life choices  149 non-null    float64\n",
            " 17  Explained by: Generosity                    149 non-null    float64\n",
            " 18  Explained by: Perceptions of corruption     149 non-null    float64\n",
            " 19  Dystopia + residual                         149 non-null    float64\n",
            "dtypes: float64(18), object(2)\n",
            "memory usage: 23.4+ KB\n"
          ]
        }
      ]
    },
    {
      "cell_type": "code",
      "metadata": {
        "colab": {
          "base_uri": "https://localhost:8080/"
        },
        "id": "TO4aCC0SqGyQ",
        "outputId": "dfb7e6e9-10d2-454e-8a3e-f8f72dc3263e"
      },
      "source": [
        "df1.describe"
      ],
      "execution_count": 23,
      "outputs": [
        {
          "output_type": "execute_result",
          "data": {
            "text/plain": [
              "<bound method NDFrame.describe of     Country name  ... Dystopia + residual\n",
              "0        Finland  ...               3.253\n",
              "1        Denmark  ...               2.868\n",
              "2    Switzerland  ...               2.839\n",
              "3        Iceland  ...               2.967\n",
              "4    Netherlands  ...               2.798\n",
              "..           ...  ...                 ...\n",
              "144      Lesotho  ...               1.800\n",
              "145     Botswana  ...               0.648\n",
              "146       Rwanda  ...               1.095\n",
              "147     Zimbabwe  ...               1.205\n",
              "148  Afghanistan  ...               1.895\n",
              "\n",
              "[149 rows x 20 columns]>"
            ]
          },
          "metadata": {},
          "execution_count": 23
        }
      ]
    },
    {
      "cell_type": "code",
      "metadata": {
        "colab": {
          "base_uri": "https://localhost:8080/"
        },
        "id": "sjDWK1cGqU-n",
        "outputId": "9727fb0c-4f32-461d-f7dc-3d68849bd300"
      },
      "source": [
        "df1.isnull().sum()"
      ],
      "execution_count": 26,
      "outputs": [
        {
          "output_type": "execute_result",
          "data": {
            "text/plain": [
              "Country name                                  0\n",
              "Regional indicator                            0\n",
              "Ladder score                                  0\n",
              "Standard error of ladder score                0\n",
              "upperwhisker                                  0\n",
              "lowerwhisker                                  0\n",
              "Logged GDP per capita                         0\n",
              "Social support                                0\n",
              "Healthy life expectancy                       0\n",
              "Freedom to make life choices                  0\n",
              "Generosity                                    0\n",
              "Perceptions of corruption                     0\n",
              "Ladder score in Dystopia                      0\n",
              "Explained by: Log GDP per capita              0\n",
              "Explained by: Social support                  0\n",
              "Explained by: Healthy life expectancy         0\n",
              "Explained by: Freedom to make life choices    0\n",
              "Explained by: Generosity                      0\n",
              "Explained by: Perceptions of corruption       0\n",
              "Dystopia + residual                           0\n",
              "dtype: int64"
            ]
          },
          "metadata": {},
          "execution_count": 26
        }
      ]
    },
    {
      "cell_type": "code",
      "metadata": {
        "colab": {
          "base_uri": "https://localhost:8080/"
        },
        "id": "vevIAs03qjdo",
        "outputId": "fcb5efe2-e6ad-44f2-b467-e427fdf5ddce"
      },
      "source": [
        "df1.duplicated().sum()"
      ],
      "execution_count": 28,
      "outputs": [
        {
          "output_type": "execute_result",
          "data": {
            "text/plain": [
              "0"
            ]
          },
          "metadata": {},
          "execution_count": 28
        }
      ]
    },
    {
      "cell_type": "code",
      "metadata": {
        "colab": {
          "base_uri": "https://localhost:8080/"
        },
        "id": "TAfaPsiNq8L3",
        "outputId": "d38e8fa6-2028-4dbd-9b16-6c49c3a16829"
      },
      "source": [
        "df1[\"Regional indicator\"].unique()"
      ],
      "execution_count": 37,
      "outputs": [
        {
          "output_type": "execute_result",
          "data": {
            "text/plain": [
              "array(['Western Europe', 'North America and ANZ',\n",
              "       'Middle East and North Africa', 'Latin America and Caribbean',\n",
              "       'Central and Eastern Europe', 'East Asia', 'Southeast Asia',\n",
              "       'Commonwealth of Independent States', 'Sub-Saharan Africa',\n",
              "       'South Asia'], dtype=object)"
            ]
          },
          "metadata": {},
          "execution_count": 37
        }
      ]
    },
    {
      "cell_type": "code",
      "metadata": {
        "colab": {
          "base_uri": "https://localhost:8080/",
          "height": 163
        },
        "id": "VxQTkv3Qs6KY",
        "outputId": "73079dcf-95aa-4ec8-dde3-69075d76cc14"
      },
      "source": [
        ""
      ],
      "execution_count": 45,
      "outputs": [
        {
          "output_type": "error",
          "ename": "AttributeError",
          "evalue": "ignored",
          "traceback": [
            "\u001b[0;31m---------------------------------------------------------------------------\u001b[0m",
            "\u001b[0;31mAttributeError\u001b[0m                            Traceback (most recent call last)",
            "\u001b[0;32m<ipython-input-45-9532578268ea>\u001b[0m in \u001b[0;36m<module>\u001b[0;34m()\u001b[0m\n\u001b[0;32m----> 1\u001b[0;31m \u001b[0mdf1\u001b[0m\u001b[0;34m[\u001b[0m\u001b[0;34m\"Regional indicator\"\u001b[0m\u001b[0;34m]\u001b[0m\u001b[0;34m==\u001b[0m\u001b[0;34m\"Western Europe\"\u001b[0m\u001b[0;34m.\u001b[0m\u001b[0munique\u001b[0m\u001b[0;34m(\u001b[0m\u001b[0;34m)\u001b[0m\u001b[0;34m\u001b[0m\u001b[0;34m\u001b[0m\u001b[0m\n\u001b[0m",
            "\u001b[0;31mAttributeError\u001b[0m: 'str' object has no attribute 'unique'"
          ]
        }
      ]
    }
  ]
}